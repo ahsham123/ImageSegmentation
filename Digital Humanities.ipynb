{
 "cells": [
  {
   "cell_type": "code",
   "execution_count": 1,
   "id": "25c9e62d",
   "metadata": {},
   "outputs": [],
   "source": [
    "import cv2"
   ]
  },
  {
   "cell_type": "markdown",
   "id": "5510f883",
   "metadata": {},
   "source": [
    "###  Face Detection"
   ]
  },
  {
   "cell_type": "code",
   "execution_count": 2,
   "id": "4fd75d55",
   "metadata": {},
   "outputs": [],
   "source": [
    "# Load the pre-trained face detection model (e.g., Haar Cascade)\n",
    "face_cascade = cv2.CascadeClassifier('haarcascade_frontalface_default.xml')"
   ]
  },
  {
   "cell_type": "code",
   "execution_count": 3,
   "id": "d1762c2d",
   "metadata": {},
   "outputs": [],
   "source": [
    "# Load the input image\n",
    "# image1 = cv2.imread('face1.jpeg')\n",
    "image2 = cv2.imread('2.jpeg')\n",
    "#image3 = cv2.imread('face3.jpeg')"
   ]
  },
  {
   "cell_type": "code",
   "execution_count": 4,
   "id": "ce16cb3c",
   "metadata": {},
   "outputs": [],
   "source": [
    "# Convert the image to grayscale\n",
    "gray = cv2.cvtColor(image2, cv2.COLOR_BGR2GRAY)"
   ]
  },
  {
   "cell_type": "code",
   "execution_count": 5,
   "id": "93f4781e",
   "metadata": {},
   "outputs": [],
   "source": [
    "# Detect faces in the image\n",
    "faces = face_cascade.detectMultiScale(gray, scaleFactor=1.1, minNeighbors=5, minSize=(30, 30))"
   ]
  },
  {
   "cell_type": "code",
   "execution_count": null,
   "id": "427d494d",
   "metadata": {},
   "outputs": [],
   "source": [
    "# Draw bounding boxes around the detected faces\n",
    "for (x, y, w, h) in faces:\n",
    "    cv2.rectangle(image2, (x, y), (x+w, y+h), (0, 255, 0), 2)\n",
    "\n",
    "# Display the output image with detected faces\n",
    "cv2.imshow('Facial Recognition', image2)\n",
    "cv2.waitKey(0)\n",
    "cv2.destroyAllWindows()\n"
   ]
  },
  {
   "cell_type": "markdown",
   "id": "353f5625",
   "metadata": {},
   "source": [
    "### Image Restoration"
   ]
  },
  {
   "cell_type": "code",
   "execution_count": 37,
   "id": "40c5fbc3",
   "metadata": {},
   "outputs": [],
   "source": [
    "# Load the degraded image\n",
    "degraded_image = cv2.imread('degraded image.jpeg')"
   ]
  },
  {
   "cell_type": "code",
   "execution_count": 38,
   "id": "de43f3a7",
   "metadata": {},
   "outputs": [],
   "source": [
    "# Convert the image to grayscale\n",
    "gray_image = cv2.cvtColor(degraded_image, cv2.COLOR_BGR2GRAY)"
   ]
  },
  {
   "cell_type": "code",
   "execution_count": 39,
   "id": "ac11fba0",
   "metadata": {},
   "outputs": [],
   "source": [
    "# Apply image restoration algorithm (e.g., using OpenCV's inpainting function)\n",
    "restored_image = cv2.inpaint(degraded_image, gray_image, 3, cv2.INPAINT_TELEA)"
   ]
  },
  {
   "cell_type": "code",
   "execution_count": 42,
   "id": "08435d46",
   "metadata": {},
   "outputs": [],
   "source": [
    "# Display the original degraded image and the restored image\n",
    "cv2.imshow('Degraded Image', degraded_image)\n",
    "cv2.waitKey(0)\n",
    "cv2.destroyAllWindows()"
   ]
  },
  {
   "cell_type": "code",
   "execution_count": 44,
   "id": "6c4812dc",
   "metadata": {},
   "outputs": [],
   "source": [
    "cv2.imshow('Restored Image', restored_image)\n",
    "cv2.waitKey(0)\n",
    "cv2.destroyAllWindows()"
   ]
  },
  {
   "cell_type": "markdown",
   "id": "2064ed90",
   "metadata": {},
   "source": [
    "### Image Segmentation"
   ]
  },
  {
   "cell_type": "code",
   "execution_count": 50,
   "id": "91a1a621",
   "metadata": {},
   "outputs": [],
   "source": [
    "import cv2\n",
    "import numpy as np\n",
    "\n",
    "def segment_image(image_path):\n",
    "    # Load the image\n",
    "    image = cv2.imread(image_path)\n",
    "\n",
    "    # Convert the image to grayscale\n",
    "    gray = cv2.cvtColor(image, cv2.COLOR_BGR2GRAY)\n",
    "\n",
    "    # Perform image segmentation using thresholding\n",
    "    _, binary = cv2.threshold(gray, 127, 255, cv2.THRESH_BINARY)\n",
    "\n",
    "    # Find contours in the binary image\n",
    "    contours, _ = cv2.findContours(binary, cv2.RETR_EXTERNAL, cv2.CHAIN_APPROX_SIMPLE)\n",
    "\n",
    "    # Create a black image as a mask\n",
    "    mask = np.zeros_like(image)\n",
    "\n",
    "    # Draw contours on the mask\n",
    "    cv2.drawContours(mask, contours, -1, (0, 255, 0), 2)\n",
    "\n",
    "    # Return the segmented image mask\n",
    "    return mask\n",
    "\n",
    "# Example usage\n",
    "image_path = '2.JPEG'\n",
    "segmented_image = segment_image(image_path)\n",
    "\n",
    "# Display the original image and the segmented image\n",
    "cv2.imshow('Original Image', cv2.imread(image_path))\n",
    "cv2.imshow('Segmented Image', segmented_image)\n",
    "\n",
    "# Wait for key press and then close the windows\n",
    "cv2.waitKey(0)\n",
    "cv2.destroyAllWindows()\n"
   ]
  },
  {
   "cell_type": "code",
   "execution_count": null,
   "id": "e68ba67e",
   "metadata": {},
   "outputs": [],
   "source": []
  },
  {
   "cell_type": "code",
   "execution_count": null,
   "id": "52175179",
   "metadata": {},
   "outputs": [],
   "source": []
  },
  {
   "cell_type": "code",
   "execution_count": 54,
   "id": "7dfe01f0",
   "metadata": {},
   "outputs": [],
   "source": [
    "# Load the input image\n",
    "image = cv2.imread('2.jpeg')\n",
    "\n",
    "# Convert the image to grayscale\n",
    "gray = cv2.cvtColor(image, cv2.COLOR_BGR2GRAY)\n",
    "\n",
    "# Apply thresholding to create a binary image\n",
    "_, thresholded = cv2.threshold(gray, 0, 255, cv2.THRESH_BINARY_INV + cv2.THRESH_OTSU)\n",
    "\n",
    "# Apply morphological operations to improve segmentation\n",
    "kernel = cv2.getStructuringElement(cv2.MORPH_ELLIPSE, (5, 5))\n",
    "opened = cv2.morphologyEx(thresholded, cv2.MORPH_OPEN, kernel, iterations=2)\n",
    "\n",
    "# Perform connected component analysis to label and extract segments\n",
    "_, labels, stats, _ = cv2.connectedComponentsWithStats(opened, connectivity=8)\n",
    "\n",
    "# Iterate over the segments and draw bounding boxes\n",
    "segmented_image = image.copy()\n",
    "for i in range(1, stats.shape[0]):\n",
    "    x, y, w, h = stats[i, cv2.CC_STAT_LEFT], stats[i, cv2.CC_STAT_TOP], stats[i, cv2.CC_STAT_WIDTH], stats[i, cv2.CC_STAT_HEIGHT]\n",
    "    cv2.rectangle(segmented_image, (x, y), (x + w, y + h), (0, 255, 0), 2)\n",
    "\n",
    "# Display the original image and the segmented image\n",
    "\n",
    "cv2.imshow('Original Image', image)\n",
    "# cv2.waitKey\n",
    "cv2.imshow('Segmented Image', segmented_image)\n",
    "cv2.waitKey(0)\n",
    "cv2.destroyAllWindows()\n"
   ]
  },
  {
   "cell_type": "code",
   "execution_count": 51,
   "id": "038cc50e",
   "metadata": {},
   "outputs": [],
   "source": [
    "cv2.imshow('Segmented Image', segmented_image)\n",
    "cv2.waitKey(0)\n",
    "cv2.destroyAllWindows()"
   ]
  },
  {
   "cell_type": "code",
   "execution_count": null,
   "id": "3792f1ef",
   "metadata": {},
   "outputs": [],
   "source": []
  },
  {
   "cell_type": "code",
   "execution_count": null,
   "id": "78ac8f4a",
   "metadata": {},
   "outputs": [],
   "source": []
  }
 ],
 "metadata": {
  "kernelspec": {
   "display_name": "Python 3 (ipykernel)",
   "language": "python",
   "name": "python3"
  },
  "language_info": {
   "codemirror_mode": {
    "name": "ipython",
    "version": 3
   },
   "file_extension": ".py",
   "mimetype": "text/x-python",
   "name": "python",
   "nbconvert_exporter": "python",
   "pygments_lexer": "ipython3",
   "version": "3.10.0"
  }
 },
 "nbformat": 4,
 "nbformat_minor": 5
}
