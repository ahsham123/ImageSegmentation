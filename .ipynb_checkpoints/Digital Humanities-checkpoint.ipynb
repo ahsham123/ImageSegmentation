{
 "cells": [
  {
   "cell_type": "code",
   "execution_count": 1,
   "id": "25c9e62d",
   "metadata": {},
   "outputs": [],
   "source": [
    "import cv2"
   ]
  },
  {
   "cell_type": "markdown",
   "id": "5510f883",
   "metadata": {},
   "source": [
    "###  Face Detection"
   ]
  },
  {
   "cell_type": "code",
   "execution_count": 2,
   "id": "4fd75d55",
   "metadata": {},
   "outputs": [],
   "source": [
    "# Load the pre-trained face detection model (e.g., Haar Cascade)\n",
    "face_cascade = cv2.CascadeClassifier('haarcascade_frontalface_default.xml')"
   ]
  },
  {
   "cell_type": "code",
   "execution_count": 3,
   "id": "d1762c2d",
   "metadata": {},
   "outputs": [],
   "source": [
    "# Load the input image\n",
    "image1 = cv2.imread('face1.jpeg')\n",
    "image2 = cv2.imread('face2.jpeg')\n",
    "image3 = cv2.imread('face3.jpeg')"
   ]
  },
  {
   "cell_type": "code",
   "execution_count": 4,
   "id": "ce16cb3c",
   "metadata": {},
   "outputs": [],
   "source": [
    "# Convert the image to grayscale\n",
    "gray = cv2.cvtColor(image2, cv2.COLOR_BGR2GRAY)"
   ]
  },
  {
   "cell_type": "code",
   "execution_count": 5,
   "id": "93f4781e",
   "metadata": {},
   "outputs": [],
   "source": [
    "# Detect faces in the image\n",
    "faces = face_cascade.detectMultiScale(gray, scaleFactor=1.1, minNeighbors=5, minSize=(30, 30))"
   ]
  },
  {
   "cell_type": "code",
   "execution_count": 6,
   "id": "427d494d",
   "metadata": {},
   "outputs": [],
   "source": [
    "# Draw bounding boxes around the detected faces\n",
    "for (x, y, w, h) in faces:\n",
    "    cv2.rectangle(image2, (x, y), (x+w, y+h), (0, 255, 0), 2)\n",
    "\n",
    "# Display the output image with detected faces\n",
    "cv2.imshow('Facial Recognition', image2)\n",
    "cv2.waitKey(0)\n",
    "cv2.destroyAllWindows()\n"
   ]
  },
  {
   "cell_type": "markdown",
   "id": "353f5625",
   "metadata": {},
   "source": [
    "### Image Restoration"
   ]
  },
  {
   "cell_type": "code",
   "execution_count": 7,
   "id": "40c5fbc3",
   "metadata": {},
   "outputs": [],
   "source": [
    "# Load the degraded image\n",
    "degraded_image = cv2.imread('degraded_image.jpeg')"
   ]
  },
  {
   "cell_type": "code",
   "execution_count": 8,
   "id": "de43f3a7",
   "metadata": {},
   "outputs": [],
   "source": [
    "# Convert the image to grayscale\n",
    "gray_image = cv2.cvtColor(degraded_image, cv2.COLOR_BGR2GRAY)"
   ]
  },
  {
   "cell_type": "code",
   "execution_count": 9,
   "id": "ac11fba0",
   "metadata": {},
   "outputs": [],
   "source": [
    "# Apply image restoration algorithm (e.g., using OpenCV's inpainting function)\n",
    "restored_image = cv2.inpaint(degraded_image, gray_image, 3, cv2.INPAINT_TELEA)"
   ]
  },
  {
   "cell_type": "code",
   "execution_count": 10,
   "id": "08435d46",
   "metadata": {},
   "outputs": [],
   "source": [
    "# Display the original degraded image and the restored image\n",
    "cv2.imshow('Degraded Image', degraded_image)\n",
    "cv2.waitKey(0)\n",
    "cv2.destroyAllWindows()"
   ]
  },
  {
   "cell_type": "code",
   "execution_count": 11,
   "id": "6c4812dc",
   "metadata": {},
   "outputs": [],
   "source": [
    "cv2.imshow('Restored Image', restored_image)\n",
    "cv2.waitKey(0)\n",
    "cv2.destroyAllWindows()"
   ]
  },
  {
   "cell_type": "markdown",
   "id": "2064ed90",
   "metadata": {},
   "source": [
    "### Image Segmentation"
   ]
  },
  {
   "cell_type": "code",
   "execution_count": 12,
   "id": "2aa1b5e7",
   "metadata": {},
   "outputs": [
    {
     "data": {
      "image/png": "[encoded data removed]",
      "text/plain": [
       "<Figure size 432x288 with 1 Axes>"
      ]
     },
     "metadata": {
      "needs_background": "light"
     },
     "output_type": "display_data"
    }
   ],
   "source": [
    "\n",
    "import cv2\n",
    "import numpy as np\n",
    "\n",
    "def segment_image(image_path):\n",
    "    # Read the image\n",
    "    image = cv2.imread(image_path)\n",
    "\n",
    "    # Convert the image to grayscale\n",
    "    gray = cv2.cvtColor(image, cv2.COLOR_BGR2GRAY)\n",
    "\n",
    "    # Apply Gaussian blur to reduce noise\n",
    "    blurred = cv2.GaussianBlur(gray, (5, 5), 0)\n",
    "\n",
    "    # Perform adaptive thresholding to obtain a binary image\n",
    "    _, thresholded = cv2.threshold(blurred, 0, 255, cv2.THRESH_BINARY + cv2.THRESH_OTSU)\n",
    "\n",
    "    # Find contours in the thresholded image\n",
    "    contours, _ = cv2.findContours(thresholded, cv2.RETR_EXTERNAL, cv2.CHAIN_APPROX_SIMPLE)\n",
    "\n",
    "    # Create a mask image for the segmented region\n",
    "    mask = np.zeros_like(image)\n",
    "\n",
    "    # Iterate over the contours and draw them on the mask image\n",
    "    for contour in contours:\n",
    "        cv2.drawContours(mask, [contour], -1, (0, 255, 0), 2)\n",
    "\n",
    "    # Apply the mask to the original image\n",
    "    segmented_image = cv2.bitwise_and(image, mask)\n",
    "\n",
    "    # Display the segmented image\n",
    "    cv2.imshow(segmented_image)\n",
    "    cv2.waitKey(0)\n",
    "    cv2.destroyAllWindows()\n",
    "\n",
    "# Provide the path to your image\n",
    "image_path = \"face.JPG\"\n",
    "\n",
    "# Call the function to perform image segmentation\n",
    "segment_image(image_path)\n",
    "\n"
   ]
  },
  {
   "cell_type": "code",
   "execution_count": 13,
   "id": "7dfe01f0",
   "metadata": {},
   "outputs": [],
   "source": [
    "# Load the input image\n",
    "image = cv2.imread('face1.jpeg')\n",
    "\n",
    "# Convert the image to grayscale\n",
    "gray = cv2.cvtColor(image, cv2.COLOR_BGR2GRAY)\n",
    "\n",
    "# Apply thresholding to create a binary image\n",
    "_, thresholded = cv2.threshold(gray, 0, 255, cv2.THRESH_BINARY_INV + cv2.THRESH_OTSU)\n",
    "\n",
    "# Apply morphological operations to improve segmentation\n",
    "kernel = cv2.getStructuringElement(cv2.MORPH_ELLIPSE, (5, 5))\n",
    "opened = cv2.morphologyEx(thresholded, cv2.MORPH_OPEN, kernel, iterations=2)\n",
    "\n",
    "# Perform connected component analysis to label and extract segments\n",
    "_, labels, stats, _ = cv2.connectedComponentsWithStats(opened, connectivity=8)\n",
    "\n",
    "# Iterate over the segments and draw bounding boxes\n",
    "segmented_image = image.copy()\n",
    "for i in range(1, stats.shape[0]):\n",
    "    x, y, w, h = stats[i, cv2.CC_STAT_LEFT], stats[i, cv2.CC_STAT_TOP], stats[i, cv2.CC_STAT_WIDTH], stats[i, cv2.CC_STAT_HEIGHT]\n",
    "    cv2.rectangle(segmented_image, (x, y), (x + w, y + h), (0, 255, 0), 2)\n",
    "\n",
    "# Display the original image and the segmented image\n",
    "cv2.imshow('Original Image', image)\n",
    "cv2.imshow('Segmented Image', segmented_image)\n",
    "cv2.waitKey(0)\n",
    "cv2.destroyAllWindows()\n"
   ]
  },
  {
   "cell_type": "code",
   "execution_count": null,
   "id": "038cc50e",
   "metadata": {},
   "outputs": [],
   "source": []
  },
  {
   "cell_type": "code",
   "execution_count": null,
   "id": "78ac8f4a",
   "metadata": {},
   "outputs": [],
   "source": []
  }
 ],
 "metadata": {
  "kernelspec": {
   "display_name": "Python 3 (ipykernel)",
   "language": "python",
   "name": "python3"
  },
  "language_info": {
   "codemirror_mode": {
    "name": "ipython",
    "version": 3
   },
   "file_extension": ".py",
   "mimetype": "text/x-python",
   "name": "python",
   "nbconvert_exporter": "python",
   "pygments_lexer": "ipython3",
   "version": "3.10.0"
  }
 },
 "nbformat": 4,
 "nbformat_minor": 5
}
